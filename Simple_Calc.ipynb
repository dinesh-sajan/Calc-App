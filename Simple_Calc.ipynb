{
 "cells": [
  {
   "cell_type": "code",
   "execution_count": 1,
   "metadata": {},
   "outputs": [
    {
     "name": "stdout",
     "output_type": "stream",
     "text": [
      "Enter the first number25\n"
     ]
    }
   ],
   "source": [
    "a=int(input(\"Enter the first number\"))"
   ]
  },
  {
   "cell_type": "code",
   "execution_count": 2,
   "metadata": {},
   "outputs": [
    {
     "name": "stdout",
     "output_type": "stream",
     "text": [
      "Enter the second number30\n"
     ]
    }
   ],
   "source": [
    "b=int(input(\"Enter the second number\"))"
   ]
  },
  {
   "cell_type": "code",
   "execution_count": 3,
   "metadata": {},
   "outputs": [
    {
     "name": "stdout",
     "output_type": "stream",
     "text": [
      "What do you want to do? \n",
      "\n",
      "1.Add\n",
      "2.Subtract\n",
      "3.Multiply\n",
      "4.Divide\n",
      "\n",
      "Enter your choice: \n",
      "\n",
      "3\n"
     ]
    }
   ],
   "source": [
    "print(\"What do you want to do? \\n\")\n",
    "print(\"1.Add\\n2.Subtract\\n3.Multiply\\n4.Divide\\n\")\n",
    "print(\"Enter your choice: \\n\")\n",
    "c=int(input())"
   ]
  },
  {
   "cell_type": "code",
   "execution_count": 5,
   "metadata": {},
   "outputs": [
    {
     "name": "stdout",
     "output_type": "stream",
     "text": [
      "The multiplication is 750\n"
     ]
    }
   ],
   "source": [
    "if c==1:\n",
    "    print(\"The addition is %r\" %(a+b))\n",
    "    \n",
    "elif c==2:\n",
    "    print(\"The subtration is %r\" %(a-b))\n",
    "    \n",
    "elif c==3:\n",
    "    print(\"The multiplication is %r\" %(a*b))\n",
    "    \n",
    "elif c==4:\n",
    "    print(\"The divison is %r\" %(a/b))\n",
    "    \n",
    "else:\n",
    "    print(\"Your option is wrong\")\n"
   ]
  },
  {
   "cell_type": "code",
   "execution_count": 6,
   "metadata": {},
   "outputs": [],
   "source": [
    "#End of Code\n"
   ]
  }
 ],
 "metadata": {
  "kernelspec": {
   "display_name": "Python 3",
   "language": "python",
   "name": "python3"
  },
  "language_info": {
   "codemirror_mode": {
    "name": "ipython",
    "version": 3
   },
   "file_extension": ".py",
   "mimetype": "text/x-python",
   "name": "python",
   "nbconvert_exporter": "python",
   "pygments_lexer": "ipython3",
   "version": "3.7.3"
  }
 },
 "nbformat": 4,
 "nbformat_minor": 2
}
